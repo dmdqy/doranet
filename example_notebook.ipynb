{
 "cells": [
  {
   "cell_type": "code",
   "execution_count": null,
   "id": "378feef7",
   "metadata": {},
   "outputs": [],
   "source": [
    "from network import create_engine\n",
    "from rdkit import Chem\n",
    "from rdkit.Chem.Draw import IPythonConsole\n",
    "from rdkit.Chem import Draw\n",
    "from IPython.display import SVG"
   ]
  },
  {
   "cell_type": "markdown",
   "id": "d916ea81",
   "metadata": {},
   "source": [
    "## Adipic acid"
   ]
  },
  {
   "cell_type": "code",
   "execution_count": null,
   "id": "d102b30c",
   "metadata": {
    "scrolled": true
   },
   "outputs": [],
   "source": [
    "# Adipic acid (Pubchem CID: 196)\n",
    "\n",
    "ADPA = Chem.MolFromSmiles('O=C(O)CCCCC(=O)O')\n",
    "ADPA"
   ]
  },
  {
   "cell_type": "markdown",
   "id": "824295b5",
   "metadata": {},
   "source": [
    "### C3 Chemistry"
   ]
  },
  {
   "cell_type": "markdown",
   "id": "47dbb6d7",
   "metadata": {},
   "source": [
    "### Ethyl lactate to Adipic acid"
   ]
  },
  {
   "cell_type": "code",
   "execution_count": null,
   "id": "f2f0aa6a",
   "metadata": {
    "scrolled": false
   },
   "outputs": [],
   "source": [
    "# create engine; the engine is the source of all network objects and handles configuration\n",
    "engine = create_engine()\n",
    "\n",
    "# get library objects from engine; must be in this order to have correct initializers\n",
    "mol_lib, op_lib, rxn_lib = engine.Libs()\n",
    "\n",
    "# initial molecule and operator set\n",
    "\n",
    "mol_smiles = (# reactant \n",
    "            \"CCOC(=O)C(C)O\",\n",
    "              \n",
    "            # helper molecules\n",
    "            \"O\",\"OO\",\"I\",\"C=C\",\"[C-]#[O+]\",\"BrCCBr\",\"OC=O\",\"COC=O\", #known\n",
    "            \"CO\",\"Br\",\"[Br-]\",\"N\",\"C(=O)=O\",\"CC=O\",\"C1C(O1)CCl\",\"C=CCBr\", #lauren\n",
    "            \"OCCO\",\"CC(O)=O\",\"OC(CCC)=O\",\"CC(O)C=C\",          \n",
    "             )\n",
    "\n",
    "op_smarts = ( # known pathway\n",
    "    #\"[C:1](=[O:2])[O:3].[OH2:4]>>[C:1](=[O:2])[OH:4].[OH:3]\", #hydrolysis\n",
    "    #\"[CH3:1][CH:2]([OH:3])>>[C:1]=[C:2].[OH2:3]\", #dehydration\n",
    "    #\"[C:1]=[C:2].[HI:3]>>[I:3][C:1][C:2]\", #addition\n",
    "    #reductive coupling of alkyl halides\n",
    "    #\"[I:1][CH2:2][CH2:3][C!H:7].[I:6][CH2:4][CH2:5][C!H:8]>>[C:8][C:5][C:4][C:2][C:3][C:7].[I:1][I:6]\",\n",
    "    \n",
    "    #all reaction operators\n",
    "    \"[C:1]=[C:2]>>[C:1][C:2]\", #hydrogenatation\n",
    "    \"[CH0:1]=[O:2]>>[C:1][O:2]\", #hydrogenation\n",
    "    \n",
    "    \"[C:1][O:2][C:3]>>[C:1].[C:3][O:2]\", #hydrogenolysis\n",
    "    \"[C:1][OH:2]>>[C:1].[OH2:2]\", #hydrodeoxygenation\n",
    "    \n",
    "    \"[C:1][O:2][C:3].[OH2:4]>>[C:1][O:2].[C:3][O:4]\", #hydrolysis 2\n",
    "    \n",
    "    \"[CH3:1][C:2][OH:3]>>[C:1]=[C:2].[OH2:3]\", #dehydration\n",
    "    \"[C:1]=[C:2].[OH2:3]>>[C:1][C:2][O:3]\", #hydration\n",
    "    \n",
    "    \"[C:1][C:2](=[O:3])[H]>>[C:1].[C:2]#[O+1:3]\", #decarbonylation\n",
    "    \n",
    "    \"[C:1][C:2](=[O:3])([OH:4])>>[C:1].[C:2](=[O:3])(=[O:4])\", #decarboxylation\n",
    "    \n",
    "\"[C:7][C:1](=[O:2])[OH:3].[C:8][C:4](=[O:5])[OH:6]>>[C:7][C:1](=[O:2])[C:8].[C:4](=[O:5])(=[O:6]).[OH2:3]\", #ketonization\n",
    "    \n",
    "    \"[C:1](=[O:2])[OH:3].[C:4][OH:5]>>[C:1](=[O:2])[O:5][C:4].[OH2:3]\", #esterification\n",
    "    \"[C!H0:1][C:2]=[O:3]>>[C:1]=[C:2][OH:3]\", #keto-enol tautomerization\n",
    "    \"[C:1](=[O:2])[CH3:3].[CH:4](=[O:5])>>[C:1](=[O:2])[C:3][C:4]([O:5])\", #aldol condensation 1\n",
    "    \"[C:1](=[O:2])[CH3:3].[CH:4](=[O:5])>>[C:1](=[O:2])[C:3]=[C:4].[OH2:5]\", #aldol condensation 2\n",
    "    \"[C:1]=[C:2][C:3]=[C:4].[C:5]=[C:6]>>[C:1]1[C:2]=[C:3][C:4][C:5][C:6]1\", #diels-alder\n",
    "    \"[C:1](=[O:2]).[N!H0:3]>>[C:1][N:3].[OH2:2]\", #ketone amination\n",
    "    \"[C:1]=[C:2]>>[C:1]1[O][C:2]1\", #epoxidation\n",
    "    \n",
    "    \"[CH2:1][OH:2]>>[C:1](=[O:2])\", #selective oxidation 1\n",
    "    \"[*:3][CH:1]([OH:2])([*:4])>>[*:3][C:1](=[O:2])([*:4])\", #selective oxidation 2\n",
    "    \"[C:1](=[O:2])[H]>>[C:1](=[O:2])([OH])\", #selective oxidation 3\n",
    "    \n",
    "    \n",
    "    \"[C:1]=[C:2].[C:3]#[O:4].[H2]>>[O+0:4]=[C+0H:3][C:1][CH:2].[CH:1][C:2]([C+0H:3]=[O+0:4])\", #hydroformylation\n",
    "    \n",
    "    \"[C:1](=[O:2])[*;!O].[OH:5][OH:6]>>[C:1](=[O:2])[O:5].[O:6]\", #baeyer-villiger oxidation 1\n",
    "    \"[C:1](=[O:2])@[C:3].[OH:5][OH:6]>>[C:1](=[O:2])[O:5][C:3].[O:6]\", #baeyer-villiger oxidation 2\n",
    "    \"[*:1][C:2]([OH:3])[C:4]([OH:5])[*:6]>>[*:1][C:2]=[C:3][*:6].[O:3].[OH2:5]\", #deoxydehydration\n",
    "    #crossed claisen condensation\n",
    "    \"[*:1][C!H:2](=[O:3])[*:4].[*:5][O:6][CH:7](=[O:8])[*:9]>>[*:1][C:2](=[O:3])[*:4][C:7](=[O:8])[*:9].[*:5][O:6]\",\n",
    "    \"[C:1][C:2].[I:3][I:4]>>[C:1][I:3].[C:2][I:4]\", #transmetalation\n",
    "    \"[C:1][C:2].[Br:3][Br:4]>>[C:1][Br:3].[C:2][Br:4]\", #transmetalation\n",
    "    \"[C:1][I:2].[C:3][I:4]>>[C:1][C:3].[I:2][I:4]\", #reductive coupling of alkyl halides\n",
    "    \"[C:1][Br:2].[C:3][Br:4]>>[C:1][C:3].[Br:2][Br:4]\", #reductive coupling of alkyl halides\n",
    "    \n",
    "    \"[*:1][C:2]([*:3])=[C:4][C:5]>>[*:1][C:2](=[O])[*:3].[*:5]=[O]\", #oxidative cleavage 1\n",
    "    \"[*:1][C:2]([*:3])=[C:4][C:5]>>[*:1][C:2](=[O])[*:3].[*:5](=[O])[O]\", #oxidative cleavage 2\n",
    "    \"[*:1][C:2]#[C:3][*:4]>>[*:1][C:2](=[O])[O].[*:4][C:3](=[O])[O]\", #oxidative cleavage 3\n",
    "    \"[*:1][C:2]([*:3])([O:4])[C:5]([*:6])([O:7])>>[*:1][C:2](=[O:4])[*:3].[*:6][C:5](=[O:7])\", #oxidative cleavage 4\n",
    "    \n",
    "    \"[C:1]=[C:2].[C:3]#[O:4].[OH2:5]>>[C:1][C:2][C+0:3](=[O+0:4])[O:5]\", #hydroxycarbonylation 1\n",
    "    \"[C:1]#[C:2].[C:3]#[O:4].[OH2:5]>>[C:1]=[C:2][C+0:3](=[O+0:4])[O:5]\", #hydroxycarbonylation 2\n",
    "    \"[*:1][C:2]=[C:3][*:4].[*:5][C:6]=[C:7][*:8]>>[*:1][C:2]=[C:6][*:5].[*:4][C:3]=[C:7][*:8]\", #olefin metathesis\n",
    "    )\n",
    "\n",
    "# add initial molecules and operators to libraries\n",
    "for smiles in mol_smiles:\n",
    "    mol_lib.add(engine.Mol(smiles))\n",
    "for smarts in op_smarts:\n",
    "    op_lib.add(engine.Op(smarts))\n",
    "\n",
    "# attach a \"strategy\" or \"expansion procedure\" to the library objects using the engine\n",
    "strat = engine.CartesianStrategy(mol_lib,op_lib,rxn_lib)\n",
    "\n",
    "# run a single \"generation\", which here means a single cartesian product step\n",
    "strat.expand(num_gens=2)\n",
    "\n",
    "print(len(mol_lib)-len(mol_smiles))\n",
    "print(len(rxn_lib))"
   ]
  },
  {
   "cell_type": "markdown",
   "id": "4b532a98",
   "metadata": {},
   "source": [
    "90 products and 120 reactions after 1st generation\n",
    "\n",
    "2511 products and 4672 reactions after 2nd generation"
   ]
  },
  {
   "cell_type": "code",
   "execution_count": null,
   "id": "c2de8fb4",
   "metadata": {},
   "outputs": [],
   "source": [
    "Chem.MolFromSmiles('O=CCC(O)O')"
   ]
  },
  {
   "cell_type": "code",
   "execution_count": null,
   "id": "7229c340",
   "metadata": {
    "scrolled": true
   },
   "outputs": [],
   "source": [
    "mol_list = []\n",
    "# print values of molecules in mol_lib\n",
    "for mol in mol_lib:\n",
    "    print(mol)\n",
    "    mol_list.append(mol.rdkitmol)\n",
    "    #Draw.ShowMol(mol.rdkitmol)\n",
    "# print the reactions (hyperedges) which connect molecules in the network\n",
    "for rxn in rxn_lib:\n",
    "    print(rxn)\n",
    "\n",
    "SVG(Draw._MolsToGridSVG(mol_list))"
   ]
  },
  {
   "cell_type": "code",
   "execution_count": null,
   "id": "f9c78941",
   "metadata": {},
   "outputs": [],
   "source": [
    "def mol_lib_to_file(mol_lib,filepath):\n",
    "    with open(filepath,'w') as file:\n",
    "        file.write('SMILES,\\n')\n",
    "        for mol in mol_lib:\n",
    "            file.write(mol.smiles)\n",
    "            file.write(',\\n')\n",
    "\n",
    "mol_lib_to_file(mol_lib,\"test.csv\")"
   ]
  },
  {
   "cell_type": "code",
   "execution_count": null,
   "id": "19a9cbc1",
   "metadata": {},
   "outputs": [],
   "source": [
    "from network import RxnTrackerSingle\n",
    "tracker = RxnTrackerSingle(rxn_lib)\n",
    "print(len(rxn_lib))\n",
    "n = 0\n",
    "max_paths = 25\n",
    "for chain in tracker.getParentChains(\"O=C(O)CCCCC(=O)O\"):\n",
    "    n += 1\n",
    "    for rxnid in chain:\n",
    "        print(rxn_lib[rxnid])\n",
    "    print()\n",
    "    if n >= max_paths:\n",
    "        print(\"Path limit reached!\")\n",
    "        break"
   ]
  },
  {
   "cell_type": "code",
   "execution_count": null,
   "id": "99d46547",
   "metadata": {},
   "outputs": [],
   "source": [
    "from network import RxnTrackerDepthFirst\n",
    "doubletracker = RxnTrackerDepthFirst(rxn_lib)\n",
    "print(len(rxn_lib))\n",
    "n = 0\n",
    "max_paths = 25\n",
    "for chain in doubletracker.getParentChains(\"C=CCCCBr\"):\n",
    "    n += 1\n",
    "    g = 0\n",
    "    for gen in chain:\n",
    "        print(f\"Generation {g}:\")\n",
    "        for rxnid in gen:\n",
    "            print(rxn_lib[rxnid])\n",
    "        g += 1\n",
    "    print()\n",
    "    if n >= max_paths:\n",
    "        print(\"Path limit reached!\")\n",
    "        break"
   ]
  },
  {
   "cell_type": "code",
   "execution_count": null,
   "id": "84af6ddf",
   "metadata": {},
   "outputs": [],
   "source": []
  }
 ],
 "metadata": {
  "kernelspec": {
   "display_name": "Python 3 (ipykernel)",
   "language": "python",
   "name": "python3"
  },
  "language_info": {
   "codemirror_mode": {
    "name": "ipython",
    "version": 3
   },
   "file_extension": ".py",
   "mimetype": "text/x-python",
   "name": "python",
   "nbconvert_exporter": "python",
   "pygments_lexer": "ipython3",
   "version": "3.9.9"
  }
 },
 "nbformat": 4,
 "nbformat_minor": 5
}
